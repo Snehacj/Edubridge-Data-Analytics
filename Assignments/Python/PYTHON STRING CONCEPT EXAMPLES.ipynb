{
 "cells": [
  {
   "cell_type": "markdown",
   "id": "6fcbf330",
   "metadata": {},
   "source": [
    "### 1.First character in string"
   ]
  },
  {
   "cell_type": "code",
   "execution_count": 3,
   "id": "f2ff9d81",
   "metadata": {},
   "outputs": [
    {
     "name": "stdout",
     "output_type": "stream",
     "text": [
      "16\n"
     ]
    },
    {
     "data": {
      "text/plain": [
       "'m'"
      ]
     },
     "execution_count": 3,
     "metadata": {},
     "output_type": "execute_result"
    }
   ],
   "source": [
    "msg=\"my name is sneha\"\n",
    "print(len(msg))\n",
    "msg[0]"
   ]
  },
  {
   "cell_type": "markdown",
   "id": "dd6ce1fd",
   "metadata": {},
   "source": [
    "### 2.Last character in string using len function"
   ]
  },
  {
   "cell_type": "code",
   "execution_count": 2,
   "id": "b3010d3f",
   "metadata": {},
   "outputs": [
    {
     "name": "stdout",
     "output_type": "stream",
     "text": [
      "a\n"
     ]
    }
   ],
   "source": [
    "msg=\"my name is sneha\"\n",
    "length=len(msg)\n",
    "last_char=msg[length-1]\n",
    "print(last_char)"
   ]
  },
  {
   "cell_type": "markdown",
   "id": "ebb6bff2",
   "metadata": {},
   "source": [
    "### 3.Last character in stirng "
   ]
  },
  {
   "cell_type": "code",
   "execution_count": 3,
   "id": "3043434b",
   "metadata": {},
   "outputs": [
    {
     "data": {
      "text/plain": [
       "'a'"
      ]
     },
     "execution_count": 3,
     "metadata": {},
     "output_type": "execute_result"
    }
   ],
   "source": [
    "msg=\"my name is sneha\"\n",
    "msg[-1]"
   ]
  },
  {
   "cell_type": "markdown",
   "id": "77d9b979",
   "metadata": {},
   "source": [
    "### 4.Fetch the 7th element of the string"
   ]
  },
  {
   "cell_type": "code",
   "execution_count": 4,
   "id": "62e408a8",
   "metadata": {},
   "outputs": [
    {
     "data": {
      "text/plain": [
       "'e'"
      ]
     },
     "execution_count": 4,
     "metadata": {},
     "output_type": "execute_result"
    }
   ],
   "source": [
    "msg=\"my name is sneha\"\n",
    "msg[6]"
   ]
  },
  {
   "cell_type": "markdown",
   "id": "65bfd2c2",
   "metadata": {},
   "source": [
    "### 5.Fetch all the characters from 0 to 5 index location excluding the character at loc 5"
   ]
  },
  {
   "cell_type": "code",
   "execution_count": 13,
   "id": "f8d3a8e4",
   "metadata": {},
   "outputs": [
    {
     "data": {
      "text/plain": [
       "'my na'"
      ]
     },
     "execution_count": 13,
     "metadata": {},
     "output_type": "execute_result"
    }
   ],
   "source": [
    "msg=\"my name is sneha\"\n",
    "msg[0:5]"
   ]
  },
  {
   "cell_type": "markdown",
   "id": "02b80764",
   "metadata": {},
   "source": [
    "### 6.Retrieve all characters between 6-12 index excluding loc 12"
   ]
  },
  {
   "cell_type": "code",
   "execution_count": 14,
   "id": "069af966",
   "metadata": {},
   "outputs": [
    {
     "data": {
      "text/plain": [
       "'e is s'"
      ]
     },
     "execution_count": 14,
     "metadata": {},
     "output_type": "execute_result"
    }
   ],
   "source": [
    "msg=\"my name is sneha\"\n",
    "msg[6:12]"
   ]
  },
  {
   "cell_type": "markdown",
   "id": "c05a737a",
   "metadata": {},
   "source": [
    "### 7.Retrieve last four characters of the string"
   ]
  },
  {
   "cell_type": "code",
   "execution_count": 5,
   "id": "e279eb6a",
   "metadata": {},
   "outputs": [
    {
     "data": {
      "text/plain": [
       "'neha'"
      ]
     },
     "execution_count": 5,
     "metadata": {},
     "output_type": "execute_result"
    }
   ],
   "source": [
    "msg=\"my name is sneha\"\n",
    "msg[-4:]"
   ]
  },
  {
   "cell_type": "markdown",
   "id": "0ee57325",
   "metadata": {},
   "source": [
    "### 8.Retrieve last six characters of the string"
   ]
  },
  {
   "cell_type": "code",
   "execution_count": 6,
   "id": "b012069a",
   "metadata": {},
   "outputs": [
    {
     "data": {
      "text/plain": [
       "' sneha'"
      ]
     },
     "execution_count": 6,
     "metadata": {},
     "output_type": "execute_result"
    }
   ],
   "source": [
    "msg=\"my name is sneha\"\n",
    "msg[-6:]"
   ]
  },
  {
   "cell_type": "markdown",
   "id": "bb3921db",
   "metadata": {},
   "source": [
    "### 9.Retrieve first four characters of the string"
   ]
  },
  {
   "cell_type": "code",
   "execution_count": 20,
   "id": "4f36fa3d",
   "metadata": {},
   "outputs": [
    {
     "data": {
      "text/plain": [
       "'my n'"
      ]
     },
     "execution_count": 20,
     "metadata": {},
     "output_type": "execute_result"
    }
   ],
   "source": [
    "msg=\"my name is sneha\"\n",
    "msg[0:4]"
   ]
  }
 ],
 "metadata": {
  "kernelspec": {
   "display_name": "Python 3 (ipykernel)",
   "language": "python",
   "name": "python3"
  },
  "language_info": {
   "codemirror_mode": {
    "name": "ipython",
    "version": 3
   },
   "file_extension": ".py",
   "mimetype": "text/x-python",
   "name": "python",
   "nbconvert_exporter": "python",
   "pygments_lexer": "ipython3",
   "version": "3.9.7"
  }
 },
 "nbformat": 4,
 "nbformat_minor": 5
}
