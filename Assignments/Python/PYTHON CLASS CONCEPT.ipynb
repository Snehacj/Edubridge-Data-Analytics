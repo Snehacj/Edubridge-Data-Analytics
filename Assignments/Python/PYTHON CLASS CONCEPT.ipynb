{
 "cells": [
  {
   "cell_type": "markdown",
   "id": "548be3dc",
   "metadata": {},
   "source": [
    "## 1. Write a simple Python class named student and display its type. Also, display the __dict__ attribute keys and the value of the __module__ attribute of the student class."
   ]
  },
  {
   "cell_type": "code",
   "execution_count": 1,
   "id": "2ea57689",
   "metadata": {},
   "outputs": [
    {
     "name": "stdout",
     "output_type": "stream",
     "text": [
      "<class 'type'>\n",
      "dict_keys(['__module__', '__dict__', '__weakref__', '__doc__'])\n",
      "__main__\n"
     ]
    }
   ],
   "source": [
    "class student:\n",
    "    pass\n",
    "print(type(student))\n",
    "print(student.__dict__.keys())\n",
    "print(student.__module__)"
   ]
  },
  {
   "cell_type": "markdown",
   "id": "b4fa92d1",
   "metadata": {},
   "source": [
    "## 2. Write a Python class to convert an integer to a roman numeral."
   ]
  },
  {
   "cell_type": "code",
   "execution_count": 9,
   "id": "4701e4a5",
   "metadata": {},
   "outputs": [
    {
     "name": "stdout",
     "output_type": "stream",
     "text": [
      "enter the integer21\n"
     ]
    },
    {
     "data": {
      "text/plain": [
       "'XXI'"
      ]
     },
     "execution_count": 9,
     "metadata": {},
     "output_type": "execute_result"
    }
   ],
   "source": [
    "class Roman:\n",
    "    def int_to_Roman(self,num):\n",
    "        self.num=int(input(\"enter the integer\"))\n",
    "        lookup = [\n",
    "            (1000,'M'),\n",
    "            (900,'CM'),\n",
    "            (500,'D'),\n",
    "            (400,'CD'),\n",
    "            (100,'C'),\n",
    "            (90,'XC'),\n",
    "            (50,'L'),\n",
    "            (40,'XL'),\n",
    "            (10,'X'),\n",
    "            (9,'IX'),\n",
    "            (5,'V'),\n",
    "            (4,'IV'),\n",
    "            (1,'I'),\n",
    "        ]\n",
    "        res = ''\n",
    "        for (n, roman) in lookup:\n",
    "            (d, self.num)= divmod(self.num, n)\n",
    "            res += roman * d\n",
    "        return res\n",
    "num = Roman()\n",
    "Roman().int_to_Roman(num)\n",
    "            "
   ]
  },
  {
   "cell_type": "markdown",
   "id": "5fde7f41",
   "metadata": {},
   "source": [
    "## 3. Write a Python class to convert a roman numeral to an integer."
   ]
  },
  {
   "cell_type": "code",
   "execution_count": 12,
   "id": "d96b1d3e",
   "metadata": {},
   "outputs": [
    {
     "name": "stdout",
     "output_type": "stream",
     "text": [
      "enter the roman numeralXII\n",
      "12\n"
     ]
    }
   ],
   "source": [
    "class py_solution:\n",
    "    def roman_to_int(self,s):\n",
    "        self.s=input(\"enter the roman numeral\")\n",
    "        rom_val = { 'I':1, 'V':5, 'X':10, 'L':50, 'C':100, 'D':500, 'M':1000 }\n",
    "        int_val=0\n",
    "        for i in range(len(self.s)):\n",
    "            if i > 0 and rom_val[self.s[i]] > rom_val[self.s[i-1]]:\n",
    "                int_val += rom_val[self.s[i]] - 2 * rom_val[self.s[i-1]]\n",
    "            else:\n",
    "                int_val += rom_val[self.s[i]]\n",
    "        print(int_val)\n",
    "        \n",
    "s= py_solution()\n",
    "py_solution().roman_to_int(s)\n"
   ]
  },
  {
   "cell_type": "markdown",
   "id": "ba32b845",
   "metadata": {},
   "source": [
    "## 4. Write a Python class to implement pow(x,n)."
   ]
  },
  {
   "cell_type": "code",
   "execution_count": 1,
   "id": "6b82384c",
   "metadata": {},
   "outputs": [
    {
     "name": "stdout",
     "output_type": "stream",
     "text": [
      "enter the number5\n",
      "enter the power to which it to be raised2\n",
      "25\n"
     ]
    }
   ],
   "source": [
    "class power :\n",
    "    def __init__(self,x,n):\n",
    "        self.x=x\n",
    "        self.n=n\n",
    "    def show_power(self):\n",
    "        print(self.x**self.n)\n",
    "        \n",
    "s=power(int(input(\"enter the number\")),int(input(\"enter the power to which it to be raised\")))\n",
    "s.show_power()"
   ]
  },
  {
   "cell_type": "markdown",
   "id": "f2087482",
   "metadata": {},
   "source": [
    "## 5. Write a Python class to reverse a string word by word."
   ]
  },
  {
   "cell_type": "code",
   "execution_count": 2,
   "id": "59a5e31d",
   "metadata": {},
   "outputs": [
    {
     "name": "stdout",
     "output_type": "stream",
     "text": [
      "sneha is name my Hiii....\n"
     ]
    }
   ],
   "source": [
    "class reverse:\n",
    "    def __init__(self,string):\n",
    "        self.string=string\n",
    "    def show_reverse(self):\n",
    "        a=self.string.split()\n",
    "        a.reverse()\n",
    "        print(' '.join(a))\n",
    "        \n",
    "s=reverse(\"Hiii.... my name is sneha\")\n",
    "s.show_reverse()\n"
   ]
  }
 ],
 "metadata": {
  "kernelspec": {
   "display_name": "Python 3 (ipykernel)",
   "language": "python",
   "name": "python3"
  },
  "language_info": {
   "codemirror_mode": {
    "name": "ipython",
    "version": 3
   },
   "file_extension": ".py",
   "mimetype": "text/x-python",
   "name": "python",
   "nbconvert_exporter": "python",
   "pygments_lexer": "ipython3",
   "version": "3.9.7"
  }
 },
 "nbformat": 4,
 "nbformat_minor": 5
}
