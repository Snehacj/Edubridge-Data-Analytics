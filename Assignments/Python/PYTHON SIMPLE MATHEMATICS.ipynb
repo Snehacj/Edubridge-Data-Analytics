{
 "cells": [
  {
   "cell_type": "markdown",
   "id": "4f90e222",
   "metadata": {},
   "source": [
    "# PROGRAMS"
   ]
  },
  {
   "cell_type": "markdown",
   "id": "552299c4",
   "metadata": {},
   "source": [
    "1. Addition, Subtraction, Multiplication, Division of two numbers"
   ]
  },
  {
   "cell_type": "code",
   "execution_count": 4,
   "id": "cdb1009e",
   "metadata": {},
   "outputs": [
    {
     "name": "stdout",
     "output_type": "stream",
     "text": [
      "enter the numbers3\n",
      "enter the numbers3\n",
      "6\n",
      "0\n",
      "9\n",
      "1.0\n"
     ]
    }
   ],
   "source": [
    "x=int(input(\"enter the numbers\"))\n",
    "y=int(input(\"enter the numbers\"))\n",
    "sum=x+y\n",
    "sub=x-y\n",
    "mul=x*y\n",
    "div=x/y\n",
    "print(sum)\n",
    "print(sub)\n",
    "print(mul)\n",
    "print(div)"
   ]
  },
  {
   "cell_type": "markdown",
   "id": "22b1d3ad",
   "metadata": {},
   "source": [
    "2. Simple interest"
   ]
  },
  {
   "cell_type": "code",
   "execution_count": 1,
   "id": "7e4cd6c7",
   "metadata": {},
   "outputs": [
    {
     "name": "stdout",
     "output_type": "stream",
     "text": [
      "enter the principal amount1000\n",
      "enter time36\n",
      "enter rate10\n",
      "360000\n"
     ]
    }
   ],
   "source": [
    "x=int(input(\"enter the principal amount\"))\n",
    "y=int(input(\"enter time\"))\n",
    "z=int(input(\"enter rate\"))\n",
    "SI=x*y*z\n",
    "print(SI)"
   ]
  },
  {
   "cell_type": "markdown",
   "id": "cfd56c02",
   "metadata": {},
   "source": [
    "3. Modulus"
   ]
  },
  {
   "cell_type": "code",
   "execution_count": 5,
   "id": "dadcf250",
   "metadata": {},
   "outputs": [
    {
     "name": "stdout",
     "output_type": "stream",
     "text": [
      "enter the number-10\n",
      "10.0\n"
     ]
    }
   ],
   "source": [
    "x=float(input(\"enter the number\"))\n",
    "MOD=abs(x)\n",
    "print(MOD)"
   ]
  },
  {
   "cell_type": "markdown",
   "id": "d38bed85",
   "metadata": {},
   "source": [
    "4. Swap two numbers with using third variable"
   ]
  },
  {
   "cell_type": "code",
   "execution_count": 3,
   "id": "23477f81",
   "metadata": {},
   "outputs": [
    {
     "name": "stdout",
     "output_type": "stream",
     "text": [
      "Enter the value of a5\n",
      "Enter the value of b10\n",
      "after swapping\n",
      "value of a 10\n",
      "value of b 5\n"
     ]
    }
   ],
   "source": [
    "a=int(input(\"Enter the value of a\"))\n",
    "b=int(input(\"Enter the value of b\"))\n",
    "temp=a\n",
    "a=b\n",
    "b=temp\n",
    "print(\"after swapping\")\n",
    "print(\"value of a\",a)\n",
    "print(\"value of b\",b)"
   ]
  },
  {
   "cell_type": "markdown",
   "id": "ce4de804",
   "metadata": {},
   "source": [
    "5. Swap two numbers without using third variable "
   ]
  },
  {
   "cell_type": "code",
   "execution_count": 6,
   "id": "503fb01f",
   "metadata": {},
   "outputs": [
    {
     "name": "stdout",
     "output_type": "stream",
     "text": [
      "enter the value of a3\n",
      "enter the value of b5\n",
      "5 3\n"
     ]
    }
   ],
   "source": [
    "a=int(input(\"enter the value of a\"))\n",
    "b=int(input(\"enter the value of b\"))\n",
    "a=a+b\n",
    "b=a-b\n",
    "a=a-b\n",
    "print(a,b)"
   ]
  },
  {
   "cell_type": "markdown",
   "id": "bb5937dc",
   "metadata": {},
   "source": [
    "6. Average of student marks"
   ]
  },
  {
   "cell_type": "code",
   "execution_count": null,
   "id": "686384e3",
   "metadata": {},
   "outputs": [],
   "source": [
    "n=int(input(\"Enter the number\"))\n",
    "sumMarks=0\n",
    "for i in range(n):\n",
    "    marks=float(input(\"Enter marks\"))\n",
    "    sumMarks += marks\n",
    "AvgMarks= sumMarks / n\n",
    "print(\"Average of marks is\", AvgMarks)"
   ]
  },
  {
   "cell_type": "markdown",
   "id": "69f242e7",
   "metadata": {},
   "source": [
    "7. Perimeter of shape"
   ]
  },
  {
   "cell_type": "code",
   "execution_count": 1,
   "id": "6b080368",
   "metadata": {},
   "outputs": [
    {
     "name": "stdout",
     "output_type": "stream",
     "text": [
      "enter the radius5\n",
      "Perimeter of circle is 31.400000000000002\n",
      "enter the length of side6\n",
      "Perimeter of square is 24.0\n",
      "enter the length of rectangle6\n",
      "enter the breadth of rectangle4\n",
      "Perimeter of rectangle is 20.0\n",
      "enter the length of a side4\n",
      "enter the lenght of a side4\n",
      "enetr the length of a side4\n",
      "Perimeter of triangle is 12.0\n"
     ]
    }
   ],
   "source": [
    "import math\n",
    "r=float(input(\"enter the radius\"))\n",
    "pc=2*3.14*r\n",
    "print(\"Perimeter of circle is\",pc)\n",
    "a=float(input(\"enter the length of side\"))\n",
    "ps=4*a\n",
    "print(\"Perimeter of square is\",ps)\n",
    "l=float(input(\"enter the length of rectangle\"))\n",
    "b=float(input(\"enter the breadth of rectangle\"))\n",
    "pr=2*(l+b)\n",
    "print(\"Perimeter of rectangle is\",pr)\n",
    "m=float(input(\"enter the length of a side\"))\n",
    "n=float(input(\"enter the lenght of a side\"))\n",
    "o=float(input(\"enetr the length of a side\"))\n",
    "pt=m+n+o\n",
    "print(\"Perimeter of triangle is\",pt)       "
   ]
  },
  {
   "cell_type": "markdown",
   "id": "6a1fff85",
   "metadata": {},
   "source": [
    "8. Area of shapes"
   ]
  },
  {
   "cell_type": "code",
   "execution_count": 2,
   "id": "c0554492",
   "metadata": {},
   "outputs": [
    {
     "name": "stdout",
     "output_type": "stream",
     "text": [
      "Enter the radius5\n",
      "The area of the circle is 78.5\n",
      "Enter the length of the side5\n",
      "The area of the square is 25.0\n",
      "Enter the length of the rectangle5\n",
      "Enter the breadth of the rectangle3\n",
      "Area of the rectangle is 15.0\n",
      "Enter the length of the base8\n",
      "Enter the height of the triangle5\n",
      "Area of the triangle is 20.0\n"
     ]
    }
   ],
   "source": [
    "import math\n",
    "r=float(input(\"Enter the radius\"))\n",
    "ac=3.14*r*r\n",
    "print(\"The area of the circle is\",ac)\n",
    "s=float(*input(\"Enter the length of the side\"))\n",
    "sq=s*s\n",
    "print(\"The area of the square is\",sq)\n",
    "l=float(input(\"Enter the length of the rectangle\"))\n",
    "b=float(input(\"Enter the breadth of the rectangle\"))\n",
    "ar=l*b\n",
    "print(\"Area of the rectangle is\",ar)\n",
    "base=float(input(\"Enter the length of the base\"))\n",
    "h=float(input(\"Enter the height of the triangle\"))\n",
    "at=(1/2)*base*h\n",
    "print(\"Area of the triangle is\",at)"
   ]
  },
  {
   "cell_type": "markdown",
   "id": "e604339a",
   "metadata": {},
   "source": [
    "9. Salary of an employee, hr-10%, da-5%"
   ]
  },
  {
   "cell_type": "code",
   "execution_count": 3,
   "id": "b27a3ccd",
   "metadata": {},
   "outputs": [
    {
     "name": "stdout",
     "output_type": "stream",
     "text": [
      "enter the basic salary20000\n",
      "23000.0\n"
     ]
    }
   ],
   "source": [
    "bs=float(input(\"enter the basic salary\"))\n",
    "hr=bs*(10/100)\n",
    "da=bs*(5/100)\n",
    "salary=bs+hr+da\n",
    "print(salary)"
   ]
  }
 ],
 "metadata": {
  "kernelspec": {
   "display_name": "Python 3 (ipykernel)",
   "language": "python",
   "name": "python3"
  },
  "language_info": {
   "codemirror_mode": {
    "name": "ipython",
    "version": 3
   },
   "file_extension": ".py",
   "mimetype": "text/x-python",
   "name": "python",
   "nbconvert_exporter": "python",
   "pygments_lexer": "ipython3",
   "version": "3.9.7"
  }
 },
 "nbformat": 4,
 "nbformat_minor": 5
}
