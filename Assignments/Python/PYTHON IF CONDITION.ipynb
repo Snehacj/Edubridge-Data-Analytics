{
 "cells": [
  {
   "cell_type": "markdown",
   "id": "26b1c1b9",
   "metadata": {},
   "source": [
    "# Programming questions"
   ]
  },
  {
   "cell_type": "markdown",
   "id": "61227654",
   "metadata": {},
   "source": [
    "1. Program to check whether a given is leap year or not "
   ]
  },
  {
   "cell_type": "code",
   "execution_count": 1,
   "id": "4c5862c2",
   "metadata": {},
   "outputs": [
    {
     "name": "stdout",
     "output_type": "stream",
     "text": [
      "enter the year2021\n",
      "not a leap year\n"
     ]
    }
   ],
   "source": [
    "x=int(input(\"enter the year\"))\n",
    "if x%4==0 and x%100==0:\n",
    "    print(\"leap year\")\n",
    "else:\n",
    "    print(\"not a leap year\")"
   ]
  },
  {
   "cell_type": "markdown",
   "id": "91d42573",
   "metadata": {},
   "source": [
    "2. Program to print the respective day according to number 1 to 7 "
   ]
  },
  {
   "cell_type": "code",
   "execution_count": 12,
   "id": "7dc3f4ea",
   "metadata": {},
   "outputs": [
    {
     "name": "stdout",
     "output_type": "stream",
     "text": [
      "enter the number6\n",
      "Friday\n"
     ]
    }
   ],
   "source": [
    "x=int(input(\"enter the number\"))\n",
    "if x==1:\n",
    "    print(\"Sunday\")\n",
    "elif x==2:\n",
    "    print(\"Monday\")\n",
    "elif x==3:\n",
    "    print(\"Tuesday\")\n",
    "elif x==4:\n",
    "    print(\"Wednesday\")\n",
    "elif x==5:\n",
    "    print(\"Thursday\")\n",
    "elif x==6:\n",
    "    print(\"Friday\")\n",
    "elif x==7:\n",
    "    print(\"Saturday\")\n",
    "else:\n",
    "    print(\"invalid input\")"
   ]
  },
  {
   "cell_type": "markdown",
   "id": "3a799de7",
   "metadata": {},
   "source": [
    "3. Program to print the grade of student according to given criteria "
   ]
  },
  {
   "cell_type": "code",
   "execution_count": 2,
   "id": "c4d3f60a",
   "metadata": {},
   "outputs": [
    {
     "name": "stdout",
     "output_type": "stream",
     "text": [
      "enter the marks70\n",
      "C\n"
     ]
    }
   ],
   "source": [
    "x=int(input(\"enter the marks\"))\n",
    "if x>90:\n",
    "    print(\"A\")\n",
    "elif x>75:\n",
    "    print(\"B\")\n",
    "elif x>65:\n",
    "    print(\"C\")\n",
    "elif x>50:\n",
    "    print(\"D\")\n",
    "else:\n",
    "    print(\"fail\")"
   ]
  },
  {
   "cell_type": "markdown",
   "id": "4d6a3f71",
   "metadata": {},
   "source": [
    "4. Program to print the three numbers in ascending order"
   ]
  },
  {
   "cell_type": "code",
   "execution_count": 19,
   "id": "0016781c",
   "metadata": {},
   "outputs": [
    {
     "name": "stdout",
     "output_type": "stream",
     "text": [
      "enter first number30\n",
      "enter the second number65\n",
      "enter third number78\n",
      "min   :     30.0\n",
      "mid   :     65.0\n",
      "max   :     78.0\n"
     ]
    }
   ],
   "source": [
    "x=float(input(\"enter first number\"))\n",
    "y=float(input(\"enter the second number\"))\n",
    "z=float(input(\"enter third number\"))\n",
    "if x<y and x<z:\n",
    "    if y<z:\n",
    "        min,mid,max=x,y,z\n",
    "    else:\n",
    "        min,mid,max=x,y,z\n",
    "elif y<x and y<z:\n",
    "    if x<z:\n",
    "        min,mid,max=y,x,z\n",
    "    else:\n",
    "        min,mid,max=y,z,x\n",
    "else:\n",
    "    if x<y:\n",
    "        min,mid,max=z,x,y\n",
    "    else:\n",
    "        min,mid,max=z,y,x\n",
    "        \n",
    "print(\"min   :    \",min)\n",
    "print(\"mid   :    \",mid)\n",
    "print(\"max   :    \",max)\n",
    "        "
   ]
  },
  {
   "cell_type": "markdown",
   "id": "5ad03810",
   "metadata": {},
   "source": [
    "5. Write a program to create the calculator"
   ]
  },
  {
   "cell_type": "code",
   "execution_count": 4,
   "id": "87e472b8",
   "metadata": {},
   "outputs": [
    {
     "name": "stdout",
     "output_type": "stream",
     "text": [
      "enter the number3\n",
      "enter first number3\n",
      "enter second number6\n",
      "The product is18\n"
     ]
    }
   ],
   "source": [
    "operation=int(input(\"enter the number\"))\n",
    "if operation==1:        # additon\n",
    "    num1=input(\"enter first number\")\n",
    "    num2=input(\"enter second number\")\n",
    "    print(\" The sum is\" + str(int(num1)+int (num2)))\n",
    "elif operation==2:      #subtraction\n",
    "    num1=input(\"enter first number\")\n",
    "    num2=input(\"enter second number\")\n",
    "    print(\" The difference is\" + str(int(num1)-int(num2)))\n",
    "elif operation==3:       # multiplication\n",
    "    num1=input(\"enter first number\")\n",
    "    num2=input(\"enter second number\")\n",
    "    print(\"The product is\" + str(int(num1)*int(num2)))\n",
    "elif operation==4:       # division\n",
    "    num1=input(\"enter first number\")\n",
    "    num2=input(\"enter second number\")\n",
    "    print(\"The result is\"+ str(int(num1)/int(num2)))\n",
    "else:\n",
    "    print(\"invalid entry\")\n",
    "    "
   ]
  },
  {
   "cell_type": "markdown",
   "id": "9bdd35ff",
   "metadata": {},
   "source": [
    "6. Write a program to print the respective month according to number 1 to 12"
   ]
  },
  {
   "cell_type": "code",
   "execution_count": 10,
   "id": "959b4002",
   "metadata": {},
   "outputs": [
    {
     "name": "stdout",
     "output_type": "stream",
     "text": [
      "enter the moth number10\n",
      "October\n"
     ]
    }
   ],
   "source": [
    "x=int(input(\"enter the moth number\"))\n",
    "if(x==1):\n",
    "    print(\"January\")\n",
    "elif (x==2):\n",
    "    print(\"February\")\n",
    "elif (x==3):\n",
    "    print(\"March\")\n",
    "elif (x==4):\n",
    "    print(\"April\")\n",
    "elif (x==5):\n",
    "    print(\"May\")\n",
    "elif (x==6):\n",
    "    print(\"June\")\n",
    "elif (x==7):\n",
    "    print(\"July\")\n",
    "elif (x==8):\n",
    "    print(\"August\")\n",
    "elif (x==9):\n",
    "    print(\"September\")\n",
    "elif (x==10):\n",
    "    print(\"October\")\n",
    "elif (x==11):\n",
    "    print(\"November\")\n",
    "elif (x==12):\n",
    "    print(\"December\")\n",
    "else:\n",
    "    print(\"invalid input\")"
   ]
  },
  {
   "cell_type": "markdown",
   "id": "38c0d1a4",
   "metadata": {},
   "source": [
    "7. Print the greatest number between three numbers "
   ]
  },
  {
   "cell_type": "code",
   "execution_count": 13,
   "id": "c9de1621",
   "metadata": {},
   "outputs": [
    {
     "name": "stdout",
     "output_type": "stream",
     "text": [
      "enter the first number5\n",
      "enter the second number8\n",
      "enter the third number10\n",
      "c is the greatest\n"
     ]
    }
   ],
   "source": [
    "a=int(input(\"enter the first number\"))\n",
    "b=int(input(\"enter the second number\"))\n",
    "c=int(input(\"enter the third number\"))\n",
    "if a>(b and c):\n",
    "    print(\"a is the greatest\")\n",
    "elif b>(a and c):\n",
    "    print(\"b is the greatest\")\n",
    "else:\n",
    "    print(\"c is the greatest\")"
   ]
  },
  {
   "cell_type": "markdown",
   "id": "6629123a",
   "metadata": {},
   "source": [
    "8. Print the smallest number between three numbers "
   ]
  },
  {
   "cell_type": "code",
   "execution_count": 15,
   "id": "77318f37",
   "metadata": {},
   "outputs": [
    {
     "name": "stdout",
     "output_type": "stream",
     "text": [
      "enter first number10\n",
      "enter second number15\n",
      "enter third number8\n",
      "c is the greatest\n"
     ]
    }
   ],
   "source": [
    "a=int(input(\"enter first number\"))\n",
    "b=int(input(\"enter second number\"))\n",
    "c=int(input(\"enter third number\"))\n",
    "if a<(b and c):\n",
    "      print(\"a is the greatest\")\n",
    "elif b<(a and c):\n",
    "        print(\"b is the greatest\")\n",
    "else:\n",
    "        print(\"c is the greatest\")"
   ]
  }
 ],
 "metadata": {
  "kernelspec": {
   "display_name": "Python 3 (ipykernel)",
   "language": "python",
   "name": "python3"
  },
  "language_info": {
   "codemirror_mode": {
    "name": "ipython",
    "version": 3
   },
   "file_extension": ".py",
   "mimetype": "text/x-python",
   "name": "python",
   "nbconvert_exporter": "python",
   "pygments_lexer": "ipython3",
   "version": "3.9.7"
  }
 },
 "nbformat": 4,
 "nbformat_minor": 5
}
