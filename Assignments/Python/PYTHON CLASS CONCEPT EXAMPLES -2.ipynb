{
 "cells": [
  {
   "cell_type": "markdown",
   "id": "ed08eca9",
   "metadata": {},
   "source": [
    "## 1. Write a python class named Circle constructed by a radius and two methods which will compute the area and the perimeter of a circle."
   ]
  },
  {
   "cell_type": "code",
   "execution_count": 1,
   "id": "13f6f290",
   "metadata": {},
   "outputs": [
    {
     "name": "stdout",
     "output_type": "stream",
     "text": [
      "Area of circle is = 12.56\n",
      "Perimeter of circle is = 12.56\n"
     ]
    }
   ],
   "source": [
    "class circle:\n",
    "    def __init__(self,r):\n",
    "        self.r=r\n",
    "        a=3.14*r*r\n",
    "        p=2*3.14*r\n",
    "        print(\"Area of circle is =\" , a)\n",
    "        print(\"Perimeter of circle is =\" ,p)\n",
    "        \n",
    "cicle1=circle(2)"
   ]
  },
  {
   "cell_type": "markdown",
   "id": "0df4b68d",
   "metadata": {},
   "source": [
    "## 2. Write a python class named Rectangle constructed by a length and width and a method whihc will compute the area of a rectangle."
   ]
  },
  {
   "cell_type": "code",
   "execution_count": 2,
   "id": "9d0c49d1",
   "metadata": {},
   "outputs": [
    {
     "name": "stdout",
     "output_type": "stream",
     "text": [
      "Area of rectangle is = 10\n"
     ]
    }
   ],
   "source": [
    "class rectangle:\n",
    "    def __init__(self,l,b):\n",
    "        self.l=l\n",
    "        self.b=b\n",
    "        a=l*b\n",
    "        print(\"Area of rectangle is =\" ,a)\n",
    "        \n",
    "rectangle1=rectangle(2,5)"
   ]
  },
  {
   "cell_type": "markdown",
   "id": "eadb4e2b",
   "metadata": {},
   "source": [
    "## 3. Write a python class which has two methods get_String and print_String. get_String accept a string from the user and print_String print the string in upper case."
   ]
  },
  {
   "cell_type": "code",
   "execution_count": 2,
   "id": "b881de19",
   "metadata": {},
   "outputs": [
    {
     "name": "stdout",
     "output_type": "stream",
     "text": [
      "enter the string : sneha is a name\n",
      "SNEHA IS A NAME\n"
     ]
    }
   ],
   "source": [
    "class string:\n",
    "    def __init__(self):\n",
    "        self.string=\"\"\n",
    "    def get_string(self):\n",
    "        self.string=input(\"enter the string : \")\n",
    "    def print_string(self):\n",
    "        s=self.string.upper()\n",
    "        print(s)\n",
    "        \n",
    "obj=string()\n",
    "obj.get_string()\n",
    "obj.print_string()"
   ]
  }
 ],
 "metadata": {
  "kernelspec": {
   "display_name": "Python 3 (ipykernel)",
   "language": "python",
   "name": "python3"
  },
  "language_info": {
   "codemirror_mode": {
    "name": "ipython",
    "version": 3
   },
   "file_extension": ".py",
   "mimetype": "text/x-python",
   "name": "python",
   "nbconvert_exporter": "python",
   "pygments_lexer": "ipython3",
   "version": "3.9.7"
  }
 },
 "nbformat": 4,
 "nbformat_minor": 5
}
