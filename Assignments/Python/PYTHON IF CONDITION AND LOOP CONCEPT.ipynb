{
 "cells": [
  {
   "cell_type": "markdown",
   "id": "ed1e50ef",
   "metadata": {},
   "source": [
    "# PROGRAMS"
   ]
  },
  {
   "cell_type": "markdown",
   "id": "62079086",
   "metadata": {},
   "source": [
    "1. Program to fing the roots of quadratic equation"
   ]
  },
  {
   "cell_type": "code",
   "execution_count": 3,
   "id": "e63a2ba3",
   "metadata": {},
   "outputs": [
    {
     "name": "stdout",
     "output_type": "stream",
     "text": [
      "enter the coefficient of a 1\n",
      "enter the coefficient of b2\n",
      "enter the coefficient of c-224\n",
      "Roots are 14.0 and -16.0\n"
     ]
    }
   ],
   "source": [
    "import math\n",
    "a=float(input(\"enter the coefficient of a \"))\n",
    "b=float(input(\"enter the coefficient of b\"))\n",
    "c=float(input(\"enter the coefficient of c\"))\n",
    "d=b*b-4*a*c;\n",
    "if d>0:\n",
    "    r1=(-b+math.sqrt(d)) / (2*a)\n",
    "    r2=(-b-math.sqrt(d)) / (2*a)\n",
    "    print(\"Roots are\",r1,\"and\",r2)\n",
    "elif d==0:\n",
    "    r1=-b/(2*a)\n",
    "    print(\"Roots are\",r1,\"and\",r2)\n",
    "else: \n",
    "    print(\"No real roots are there\")"
   ]
  },
  {
   "cell_type": "markdown",
   "id": "6b93699e",
   "metadata": {},
   "source": [
    "2. Program to check whether a given numbers is prime or not"
   ]
  },
  {
   "cell_type": "code",
   "execution_count": 3,
   "id": "4270252b",
   "metadata": {},
   "outputs": [
    {
     "name": "stdout",
     "output_type": "stream",
     "text": [
      "enter a number5\n",
      "5 is a prime number\n"
     ]
    }
   ],
   "source": [
    "num=int(input(\"enter a number\"))\n",
    "for i in range (2,num):\n",
    "    if num%i==0:\n",
    "        print(num,\"is not a prime number\")\n",
    "        break\n",
    "else: \n",
    "    print(num,\"is a prime number\")"
   ]
  },
  {
   "cell_type": "markdown",
   "id": "73f95e49",
   "metadata": {},
   "source": [
    "3. Program to print fibonacci series"
   ]
  },
  {
   "cell_type": "code",
   "execution_count": 8,
   "id": "3a3b16a0",
   "metadata": {},
   "outputs": [
    {
     "name": "stdout",
     "output_type": "stream",
     "text": [
      "enter the range10\n",
      "0\n",
      "1\n",
      "1\n",
      "2\n",
      "3\n",
      "5\n",
      "8\n",
      "13\n",
      "21\n",
      "34\n",
      "55\n",
      "89\n"
     ]
    }
   ],
   "source": [
    "n=int(input(\"enter the range\"))\n",
    "a=0\n",
    "b=1\n",
    "print(a)\n",
    "print(b)\n",
    "for i in range(n):\n",
    "    temp=a+b\n",
    "    print(temp)\n",
    "    a=b\n",
    "    b=temp"
   ]
  },
  {
   "cell_type": "markdown",
   "id": "793400dc",
   "metadata": {},
   "source": [
    "4. Program to chech whether the given number is a armstrong or not"
   ]
  },
  {
   "cell_type": "code",
   "execution_count": 1,
   "id": "38c134e1",
   "metadata": {},
   "outputs": [
    {
     "name": "stdout",
     "output_type": "stream",
     "text": [
      "enter the number1634\n",
      "The number 1634 is a Armstrong number\n"
     ]
    }
   ],
   "source": [
    "num = int(input(\"enter the number\"))\n",
    "temp = num\n",
    "cnt=0\n",
    "while temp >0:\n",
    "    cnt=cnt+1\n",
    "    temp=temp//10\n",
    "sum=0\n",
    "temp=num\n",
    "while temp>0:\n",
    "    rem= temp%10\n",
    "    sum=sum+pow(rem,cnt)\n",
    "    temp=temp//10\n",
    "if(num==sum):\n",
    "    print(\"The number\", num, \"is a Armstrong number\")\n",
    "else:\n",
    "    print(\"The number \", num, \"is not an Armstrong number\")"
   ]
  },
  {
   "cell_type": "markdown",
   "id": "f6ed0ba6",
   "metadata": {},
   "source": [
    "5. Program to print the pyramid (nested loop)"
   ]
  },
  {
   "cell_type": "code",
   "execution_count": 4,
   "id": "7a60f693",
   "metadata": {},
   "outputs": [
    {
     "name": "stdout",
     "output_type": "stream",
     "text": [
      "enter the number of rows:6\n",
      "     \n",
      "    *\n",
      "   ***\n",
      "  *****\n",
      " *******\n",
      "*********\n"
     ]
    }
   ],
   "source": [
    "n=int(input(\"enter the number of rows:\"))\n",
    "for i in range (n):\n",
    "    for j in range (n-i-1):\n",
    "        print(\" \",end=\"\")\n",
    "    for j in range(2*i-1):\n",
    "        print(\"*\",end=\"\")\n",
    "    print()"
   ]
  },
  {
   "cell_type": "markdown",
   "id": "0a837727",
   "metadata": {},
   "source": [
    "6. Program to check strong number or not"
   ]
  },
  {
   "cell_type": "code",
   "execution_count": 13,
   "id": "1877d899",
   "metadata": {},
   "outputs": [
    {
     "name": "stdout",
     "output_type": "stream",
     "text": [
      "enter a number: 145\n",
      "The number is a strong number\n"
     ]
    }
   ],
   "source": [
    "sum1=0\n",
    "num= int(input(\"enter a number: \"))\n",
    "temp=num\n",
    "while(num):\n",
    "    i=1\n",
    "    f=1\n",
    "    r=num%10\n",
    "    while(i<=r):\n",
    "        f=f*i\n",
    "        i=i+1\n",
    "    sum1=sum1+f\n",
    "    num=num//10\n",
    "if (sum1==temp):\n",
    "    print(\"The number is a strong number\")\n",
    "else:\n",
    "    print(\"The number is not a strong number\")"
   ]
  },
  {
   "cell_type": "markdown",
   "id": "fedc19f7",
   "metadata": {},
   "source": [
    "7. Program to check perfect number or not"
   ]
  },
  {
   "cell_type": "code",
   "execution_count": 22,
   "id": "030690b3",
   "metadata": {},
   "outputs": [
    {
     "name": "stdout",
     "output_type": "stream",
     "text": [
      "enter a number6\n",
      "6 is a perfect number\n"
     ]
    }
   ],
   "source": [
    "num=int(input(\"enter a number\"))\n",
    "sum=0\n",
    "i=1\n",
    "while i<num:\n",
    "    if num%i==0:\n",
    "        sum=sum+i\n",
    "    i=i+1\n",
    "    \n",
    "if num==sum:\n",
    "    print(num, \"is a perfect number\")\n",
    "else:\n",
    "    print(num, \"is not a perfect number\")"
   ]
  },
  {
   "cell_type": "markdown",
   "id": "55d0b3e3",
   "metadata": {},
   "source": [
    "8. Program to check whether a given number is palindrome or not "
   ]
  },
  {
   "cell_type": "code",
   "execution_count": 2,
   "id": "b64b8200",
   "metadata": {},
   "outputs": [
    {
     "name": "stdout",
     "output_type": "stream",
     "text": [
      "enter a number123454321\n",
      "123454321 is a palindrome number\n"
     ]
    }
   ],
   "source": [
    "num=int(input(\"enter a number\"))\n",
    "temp=num\n",
    "rev=0\n",
    "digit=0\n",
    "while temp>0:\n",
    "    digit=temp%10\n",
    "    rev=rev*10+digit\n",
    "    temp=temp//10\n",
    "    \n",
    "if num==rev:\n",
    "    print(num,\"is a palindrome number\")\n",
    "else:\n",
    "    print(num,\"is not a palindrome number\")"
   ]
  },
  {
   "cell_type": "markdown",
   "id": "eb1724ba",
   "metadata": {},
   "source": [
    "9. Find factors of a number"
   ]
  },
  {
   "cell_type": "code",
   "execution_count": 2,
   "id": "df955559",
   "metadata": {},
   "outputs": [
    {
     "name": "stdout",
     "output_type": "stream",
     "text": [
      "Enter the number9\n",
      "factors of  9 is\n",
      "1\n",
      "3\n",
      "9\n"
     ]
    }
   ],
   "source": [
    "x=int(input(\"Enter the number\"))\n",
    "print(\"factors of \",x,\"is\")\n",
    "for i in range (1,x+1):\n",
    "    if x%i==0:\n",
    "        print(i)"
   ]
  }
 ],
 "metadata": {
  "kernelspec": {
   "display_name": "Python 3 (ipykernel)",
   "language": "python",
   "name": "python3"
  },
  "language_info": {
   "codemirror_mode": {
    "name": "ipython",
    "version": 3
   },
   "file_extension": ".py",
   "mimetype": "text/x-python",
   "name": "python",
   "nbconvert_exporter": "python",
   "pygments_lexer": "ipython3",
   "version": "3.9.7"
  }
 },
 "nbformat": 4,
 "nbformat_minor": 5
}
