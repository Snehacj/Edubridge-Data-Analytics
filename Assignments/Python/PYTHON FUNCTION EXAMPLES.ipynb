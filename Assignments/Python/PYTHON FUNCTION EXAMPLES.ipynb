{
 "cells": [
  {
   "cell_type": "markdown",
   "id": "d68b6ccb",
   "metadata": {},
   "source": [
    "### 1. Write a function to find the Max of three numbers."
   ]
  },
  {
   "cell_type": "code",
   "execution_count": 14,
   "id": "6a0f61ff",
   "metadata": {},
   "outputs": [
    {
     "name": "stdout",
     "output_type": "stream",
     "text": [
      "50\n"
     ]
    }
   ],
   "source": [
    "def maximum():\n",
    "    print(max(2,50,6,10))\n",
    "maximum()\n",
    "    "
   ]
  },
  {
   "cell_type": "markdown",
   "id": "68fdc03f",
   "metadata": {},
   "source": [
    "### 2. Write a function to sum all the numbers in a list."
   ]
  },
  {
   "cell_type": "code",
   "execution_count": 5,
   "id": "171fe7d3",
   "metadata": {},
   "outputs": [
    {
     "name": "stdout",
     "output_type": "stream",
     "text": [
      "sum = 6\n"
     ]
    }
   ],
   "source": [
    "def sum_list(items):\n",
    "    sum_numbers=0\n",
    "    for x in items:\n",
    "        sum_numbers += x\n",
    "    return sum_numbers\n",
    "print(\"sum =\",sum_list([1,2,3]))"
   ]
  },
  {
   "cell_type": "markdown",
   "id": "4f78ae3e",
   "metadata": {},
   "source": [
    "### 3. Write a function to multiply all the numbers in a list."
   ]
  },
  {
   "cell_type": "code",
   "execution_count": 12,
   "id": "28f9a83e",
   "metadata": {},
   "outputs": [
    {
     "name": "stdout",
     "output_type": "stream",
     "text": [
      "product =  24\n"
     ]
    }
   ],
   "source": [
    "def product_list(items):\n",
    "    product_numbers=1\n",
    "    for x in items:\n",
    "        product_numbers *= x\n",
    "    return product_numbers\n",
    "print(\"product = \",product_list([1,2,3,4]))"
   ]
  },
  {
   "cell_type": "markdown",
   "id": "7f679d70",
   "metadata": {},
   "source": [
    "### 4. Write a function to reverse a string."
   ]
  },
  {
   "cell_type": "code",
   "execution_count": 10,
   "id": "ef638f44",
   "metadata": {},
   "outputs": [
    {
     "data": {
      "text/plain": [
       "'ahens si eman ym'"
      ]
     },
     "execution_count": 10,
     "metadata": {},
     "output_type": "execute_result"
    }
   ],
   "source": [
    "msg=\"my name is sneha\"\n",
    "msg[::-1]"
   ]
  },
  {
   "cell_type": "markdown",
   "id": "42e064da",
   "metadata": {},
   "source": [
    "### 5. Write a function to calculate the factorial of a number."
   ]
  },
  {
   "cell_type": "code",
   "execution_count": 16,
   "id": "ec3db16f",
   "metadata": {},
   "outputs": [
    {
     "name": "stdout",
     "output_type": "stream",
     "text": [
      "Enter any number5\n",
      "120  is the factorial value \n"
     ]
    }
   ],
   "source": [
    "def fact():\n",
    "    num=int(input(\"Enter any number\"))\n",
    "    f=1\n",
    "    for i in range(1,num+1):\n",
    "        f=f*i\n",
    "    print(f,\" is the factorial value \")\n",
    "fact()"
   ]
  },
  {
   "cell_type": "markdown",
   "id": "708d2a6b",
   "metadata": {},
   "source": [
    "### 6. Write a function that accepts a string and calculate the number of upper case letters and ower case letters."
   ]
  },
  {
   "cell_type": "code",
   "execution_count": 17,
   "id": "d08776a8",
   "metadata": {},
   "outputs": [
    {
     "name": "stdout",
     "output_type": "stream",
     "text": [
      "Original string: joMon Is mY BrotHer\n",
      "Number of upper case letters :  5\n",
      "Number of lower case letters :  11\n"
     ]
    }
   ],
   "source": [
    "def string_test(s):\n",
    "    d={\"UPPER_CASE\":0,\"LOWER_CASE\":0}\n",
    "    for c in s:\n",
    "        if c.isupper():\n",
    "            d[\"UPPER_CASE\"]+=1\n",
    "        elif c.islower():\n",
    "            d[\"LOWER_CASE\"]+=1\n",
    "        else:\n",
    "            pass\n",
    "    print(\"Original string:\",s)\n",
    "    print(\"Number of upper case letters : \",d[\"UPPER_CASE\"])\n",
    "    print(\"Number of lower case letters : \",d[\"LOWER_CASE\"])\n",
    "string_test(\"joMon Is mY BrotHer\")"
   ]
  },
  {
   "cell_type": "markdown",
   "id": "403a864d",
   "metadata": {},
   "source": [
    "### 7. Write a function that takes a list and returns a new list with unique elements of the first list."
   ]
  },
  {
   "cell_type": "code",
   "execution_count": 18,
   "id": "c6d49a46",
   "metadata": {},
   "outputs": [
    {
     "name": "stdout",
     "output_type": "stream",
     "text": [
      "[10, 20, 30, 56, 90]\n"
     ]
    }
   ],
   "source": [
    "l=[10,10,20,30,56,20,90,56]\n",
    "\n",
    "def remove_duplicates(list):\n",
    "    newlist=[]\n",
    "    \n",
    "    for element in list:\n",
    "        if element not in newlist:\n",
    "            newlist.append(element)\n",
    "            \n",
    "    return newlist\n",
    "\n",
    "print(remove_duplicates(l))"
   ]
  }
 ],
 "metadata": {
  "kernelspec": {
   "display_name": "Python 3 (ipykernel)",
   "language": "python",
   "name": "python3"
  },
  "language_info": {
   "codemirror_mode": {
    "name": "ipython",
    "version": 3
   },
   "file_extension": ".py",
   "mimetype": "text/x-python",
   "name": "python",
   "nbconvert_exporter": "python",
   "pygments_lexer": "ipython3",
   "version": "3.9.7"
  }
 },
 "nbformat": 4,
 "nbformat_minor": 5
}
