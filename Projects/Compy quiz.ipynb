{
 "cells": [
  {
   "cell_type": "markdown",
   "id": "d950b3e1",
   "metadata": {},
   "source": [
    "# GAME"
   ]
  },
  {
   "cell_type": "code",
   "execution_count": null,
   "id": "e94eb2f3",
   "metadata": {},
   "outputs": [
    {
     "name": "stdout",
     "output_type": "stream",
     "text": [
      "Hello, welcome to compy quiz !!!\n"
     ]
    }
   ],
   "source": [
    "print(\"Hello, welcome to compy quiz !!!\")\n",
    "\n",
    "ans=input(\"Are you ready to check your brain (yes/no) : \")\n",
    "score = 0\n",
    "total_q =5\n",
    "\n",
    "if ans.lower() == \"yes\" :\n",
    "    \n",
    "    ans=input(\"1. What is the best programming language? \")\n",
    "    if ans.lower() ==\"python\":\n",
    "        score+=1\n",
    "        print(\"Correct! \")\n",
    "    else:\n",
    "        print(\"Incorrect\")\n",
    "        \n",
    "    \n",
    "    ans=input(\"2. Who developed python programming language? \")\n",
    "    if ans.lower() == \"guido van rossum\":\n",
    "        score+=1\n",
    "        print(\"Correct! \")\n",
    "    else:\n",
    "        print(\"Incorrect\")\n",
    "        \n",
    "    \n",
    "    ans=input(\"3. Which keyword is used for function in python language? \")\n",
    "    if ans.lower() == \"def\":\n",
    "        score+=1\n",
    "        print(\"Correct! \")\n",
    "    else:\n",
    "        print(\"Incorrect\")\n",
    "        \n",
    "    \n",
    "    ans=input(\"4. Which character is used to give single-line comments in python ? \")\n",
    "    if ans.lower() == \"#\":\n",
    "        score+=1\n",
    "        print(\"Correct! \")\n",
    "    else:\n",
    "        print(\"Incorrect\")\n",
    "        \n",
    "    \n",
    "    ans=input(\"5. What will  be the output of the following question:- len(['hello',2,4,90])\")\n",
    "    if ans == \"4\":\n",
    "        score+=1\n",
    "        print(\"Correct! \")\n",
    "    else:\n",
    "        print(\"Incorrect\")\n",
    "        \n",
    "        \n",
    "print(\"Thankyou for spending your precious time here, you got \", score , \" questions correct\")\n",
    "mark = (score/total_q)*100\n",
    "\n",
    "print(\"Mark: \" , mark)\n",
    "print(\"Thankyou ..........bye, see you again\")\n",
    "        \n",
    "        \n",
    "        \n",
    "        \n",
    "        \n",
    "        \n",
    "        \n",
    "        \n",
    "        \n",
    "        \n",
    "        \n"
   ]
  }
 ],
 "metadata": {
  "kernelspec": {
   "display_name": "Python 3 (ipykernel)",
   "language": "python",
   "name": "python3"
  },
  "language_info": {
   "codemirror_mode": {
    "name": "ipython",
    "version": 3
   },
   "file_extension": ".py",
   "mimetype": "text/x-python",
   "name": "python",
   "nbconvert_exporter": "python",
   "pygments_lexer": "ipython3",
   "version": "3.9.7"
  }
 },
 "nbformat": 4,
 "nbformat_minor": 5
}
